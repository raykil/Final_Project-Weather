{
 "cells": [
  {
   "cell_type": "code",
   "execution_count": 1,
   "id": "0dc974f2",
   "metadata": {},
   "outputs": [
    {
     "data": {
      "text/html": [
       "<style>.container { width:95% !important; }</style>"
      ],
      "text/plain": [
       "<IPython.core.display.HTML object>"
      ]
     },
     "metadata": {},
     "output_type": "display_data"
    }
   ],
   "source": [
    "from IPython.display import display, HTML\n",
    "display(HTML(\"<style>.container { width:95% !important; }</style>\"))\n",
    "\n",
    "from matplotlib_inline import backend_inline\n",
    "backend_inline.set_matplotlib_formats('retina')"
   ]
  },
  {
   "cell_type": "code",
   "execution_count": 2,
   "id": "1a5164f0",
   "metadata": {},
   "outputs": [],
   "source": [
    "import numpy as np\n",
    "import matplotlib\n",
    "import matplotlib.pyplot as plt\n",
    "import pandas as pd\n",
    "import matplotlib\n",
    "from glob import glob\n",
    "#plt.style.use('~/Desktop/saunders.mplstyle')"
   ]
  },
  {
   "cell_type": "markdown",
   "id": "62b33d84",
   "metadata": {},
   "source": [
    "Start with just max daily temperature"
   ]
  },
  {
   "cell_type": "code",
   "execution_count": 3,
   "id": "7bad64ac",
   "metadata": {},
   "outputs": [],
   "source": [
    "days_to_drop = np.array([False, False, False, False, False, False, False, False, False,\n",
    "       False, False, False, False, False, False, False, False, False,\n",
    "       False, False, False, False, False, False, False, False, False,\n",
    "       False, False, False, False, False, False, False, False, False,\n",
    "       False, False, False, False, False, False, False, False, False,\n",
    "       False, False, False, False, False, False, False, False, False,\n",
    "       False, False, False, False, False,  True,  True,  True, False,\n",
    "       False, False, False, False, False, False, False, False, False,\n",
    "       False, False, False, False, False, False, False, False, False,\n",
    "       False, False, False, False, False, False, False, False, False,\n",
    "       False, False, False, False, False, False, False, False, False,\n",
    "       False, False, False, False, False, False, False, False, False,\n",
    "       False, False, False, False, False, False, False, False, False,\n",
    "       False, False, False, False, False, False,  True, False, False,\n",
    "       False, False, False, False, False, False, False, False, False,\n",
    "       False, False, False, False, False, False, False, False, False,\n",
    "       False, False, False, False, False, False, False, False, False,\n",
    "       False, False, False, False, False, False, False, False, False,\n",
    "       False, False, False, False, False, False, False, False, False,\n",
    "       False, False, False, False, False, False, False, False, False,\n",
    "       False, False, False, False, False,  True, False, False, False,\n",
    "       False, False, False, False, False, False, False, False, False,\n",
    "       False, False, False, False, False, False, False, False, False,\n",
    "       False, False, False, False, False, False, False, False, False,\n",
    "       False, False, False, False, False, False, False, False, False,\n",
    "       False, False, False, False, False, False, False, False, False,\n",
    "       False, False, False, False, False, False, False, False, False,\n",
    "       False, False, False, False, False, False, False, False, False,\n",
    "       False, False, False, False, False, False, False, False, False,\n",
    "       False, False, False, False, False, False, False, False, False,\n",
    "       False, False, False, False, False, False, False, False,  True,\n",
    "       False, False, False, False, False, False, False, False, False,\n",
    "       False, False, False, False, False, False, False, False, False,\n",
    "       False, False, False, False, False, False, False, False, False,\n",
    "       False, False, False, False, False, False, False, False, False,\n",
    "       False, False, False, False, False, False, False, False, False,\n",
    "       False, False, False, False, False, False, False, False, False,\n",
    "       False, False, False, False, False, False, False,  True, False,\n",
    "       False, False, False, False, False, False, False, False, False,\n",
    "       False, False, False, False, False, False, False, False, False,\n",
    "       False, False, False, False, False, False, False, False, False,\n",
    "       False, False, False])"
   ]
  },
  {
   "cell_type": "code",
   "execution_count": 4,
   "id": "5718af75",
   "metadata": {},
   "outputs": [],
   "source": [
    "stations = pd.read_fwf('data/ghcnd-stations.txt', colspecs=[[0, 11], [13, 20], [22, 30], [32, 37], [39, 40], [42, 71]],\\\n",
    "                       names=['station', 'latitude', 'longitude', 'elevation', 'state', 'name'])"
   ]
  },
  {
   "cell_type": "code",
   "execution_count": 5,
   "id": "ded66df6",
   "metadata": {},
   "outputs": [],
   "source": [
    "filelist = glob('data/ghcnd_hcn/*.dly')"
   ]
  },
  {
   "cell_type": "code",
   "execution_count": 6,
   "id": "2089b800",
   "metadata": {},
   "outputs": [
    {
     "name": "stdout",
     "output_type": "stream",
     "text": [
      "1217 / 1218 \r"
     ]
    }
   ],
   "source": [
    "collect_tmax = []\n",
    "\n",
    "for i, file in enumerate(filelist):\n",
    "    print(i, '/', len(filelist), '\\r', end='')\n",
    "    \n",
    "    data = pd.read_fwf(file,\\\n",
    "                       colspecs=[[0,11], [11, 15], [15, 17], [17, 21]] + \\\n",
    "                                 [[i, j] for i, j in zip(np.arange(21, 267, 8).tolist(), np.arange(26, 267, 8).tolist())], \\\n",
    "                       names=['station', 'year', 'month', 'type'] + ['day%s'%str(i) for i in range(1, 32)])\n",
    "\n",
    "    data_tmax = data[data['type']=='TMAX']\n",
    "\n",
    "\n",
    "    station = data.loc[0, 'station']\n",
    "    years = np.unique(data_tmax['year'])\n",
    "    \n",
    "    station_info = stations[stations['station'] == station]\n",
    "\n",
    "    for year in years:\n",
    "        station_year = data_tmax[data_tmax['year']==year]\n",
    "        if station_year.shape[0] < 12:\n",
    "            continue\n",
    "        else:\n",
    "            collect_tmax.append([station, year] + station_year[station_year.columns[4:]].to_numpy().flatten()[~days_to_drop].tolist() + \\\n",
    "                                [station_info['latitude'].values[0], station_info['longitude'].values[0], station_info['elevation'].values[0]])\n",
    "            \n",
    "data_tmax_byyear = pd.DataFrame(data=collect_tmax, \\\n",
    "                                columns=['station', 'year'] + ['day%s'%str(i) for i in range(1, 366)] + ['latitude', 'longitude', 'elevation'])        "
   ]
  },
  {
   "cell_type": "code",
   "execution_count": 7,
   "id": "0fb53c9e",
   "metadata": {},
   "outputs": [],
   "source": [
    "data_tmax_byyear.to_csv('data/ghcnd_hcn_tmax.csv.gz', compression='gzip', index=False)"
   ]
  },
  {
   "cell_type": "code",
   "execution_count": null,
   "id": "af49859c",
   "metadata": {},
   "outputs": [],
   "source": []
  }
 ],
 "metadata": {
  "kernelspec": {
   "display_name": "Python 3 (ipykernel)",
   "language": "python",
   "name": "python3"
  },
  "language_info": {
   "codemirror_mode": {
    "name": "ipython",
    "version": 3
   },
   "file_extension": ".py",
   "mimetype": "text/x-python",
   "name": "python",
   "nbconvert_exporter": "python",
   "pygments_lexer": "ipython3",
   "version": "3.9.9"
  }
 },
 "nbformat": 4,
 "nbformat_minor": 5
}
