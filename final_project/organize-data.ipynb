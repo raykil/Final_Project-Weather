{
 "cells": [
  {
   "cell_type": "code",
   "execution_count": 1,
   "id": "520a53ee",
   "metadata": {},
   "outputs": [
    {
     "data": {
      "text/html": [
       "<style>.container { width:95% !important; }</style>"
      ],
      "text/plain": [
       "<IPython.core.display.HTML object>"
      ]
     },
     "metadata": {},
     "output_type": "display_data"
    }
   ],
   "source": [
    "from IPython.display import display, HTML\n",
    "display(HTML(\"<style>.container { width:95% !important; }</style>\"))\n",
    "\n",
    "from matplotlib_inline import backend_inline\n",
    "backend_inline.set_matplotlib_formats('retina')"
   ]
  },
  {
   "cell_type": "code",
   "execution_count": 2,
   "id": "45974c62",
   "metadata": {},
   "outputs": [],
   "source": [
    "from __future__ import print_function, division\n",
    "import os,sys\n",
    "import numpy as np\n",
    "import torch # pytorch package, allows using GPUs\n",
    "# fix seed\n",
    "seed=17\n",
    "np.random.seed(seed)\n",
    "torch.manual_seed(seed)\n",
    "from datetime import datetime\n",
    "from glob import glob\n",
    "import pandas as pd\n",
    "import h5py"
   ]
  },
  {
   "cell_type": "markdown",
   "id": "23b40747",
   "metadata": {},
   "source": [
    "# Step 1. Load Data"
   ]
  },
  {
   "cell_type": "code",
   "execution_count": 3,
   "id": "a3bb4be5",
   "metadata": {},
   "outputs": [],
   "source": [
    "tmax_data = pd.read_csv('data/ghcnd_hcn_tmax.csv.gz', compression='gzip')\n",
    "tmax_data.replace(-9999, np.nan, inplace=True)\n",
    "#tmax_data.drop(columns=['latitude', 'longitude', 'elevation'], inplace=True)"
   ]
  },
  {
   "cell_type": "markdown",
   "id": "61de7839",
   "metadata": {},
   "source": [
    "# Step 2. Organize the Data"
   ]
  },
  {
   "cell_type": "markdown",
   "id": "c9568f94",
   "metadata": {},
   "source": [
    "After discussing with Pankaj, here is how I'm going to assemble the data.  \n",
    "\n",
    "- For each station, take a 3-D array (days x years x neighbor stations).  \n",
    "- I'm going to go with 10 years of data for each sample and the 10 nearest stations.\n",
    "    - Iterate through each week, choosing X to be the 10 previous years and y to be the subsequent week of temperatures for the station of interest.\n",
    "- Start with using just the 20th century data, leaving all 21st century data for validation and testing later on. "
   ]
  },
  {
   "cell_type": "code",
   "execution_count": 4,
   "id": "ed331ee3",
   "metadata": {},
   "outputs": [],
   "source": [
    "years = np.arange(1951, 2012, 1)"
   ]
  },
  {
   "cell_type": "code",
   "execution_count": 5,
   "id": "a29bebcf",
   "metadata": {},
   "outputs": [
    {
     "name": "stdout",
     "output_type": "stream",
     "text": [
      "1210 / 1218 \r"
     ]
    }
   ],
   "source": [
    "tmax_data_h20c = tmax_data[np.logical_and(tmax_data['year'] >= 1951, tmax_data['year'] <= 2011)].copy()\n",
    "\n",
    "# remove any station that don't have at least 51 years of data in the range 1941 to 2011\n",
    "tmp = []\n",
    "counter = 0\n",
    "for i, station in enumerate(tmax_data_h20c['station'].unique()):\n",
    "    if (i+1)%10 == 0:\n",
    "        print(i+1, '/', tmax_data_h20c['station'].nunique(), '\\r', end='')\n",
    "    a = tmax_data_h20c[tmax_data_h20c['station'] == station].copy()\n",
    "    if a['year'].nunique() < 60:\n",
    "        continue\n",
    "    elif ((a['year'].nunique() >= 60) and (a['year'].nunique() < 61)):\n",
    "        # add nans for the missing rows\n",
    "        missing_years = years[~np.in1d(years, a['year'].to_numpy())]\n",
    "        for missing_year in missing_years:\n",
    "            a.loc[a.index[-1]+1] = np.hstack([station, missing_year, [np.nan]*365, a.iloc[0][['latitude', 'longitude', 'elevation']].copy().to_numpy()])\n",
    "        a = a.sort_values('year')\n",
    "        a.index = np.arange(len(a))\n",
    "        tmp.append(a.copy().to_numpy())\n",
    "        counter += 1\n",
    "    elif a['year'].nunique() == 61:\n",
    "        tmp.append(a.copy().to_numpy())\n",
    "        counter += 1\n",
    "    else:\n",
    "        print('problem')\n",
    "        break\n",
    "\n",
    "tmax_data_h20c = pd.DataFrame(np.vstack(tmp), columns=tmax_data.columns)\n",
    "del(tmp)"
   ]
  },
  {
   "cell_type": "code",
   "execution_count": 6,
   "id": "bfc5ec87",
   "metadata": {},
   "outputs": [
    {
     "data": {
      "text/plain": [
       "10797"
      ]
     },
     "execution_count": 6,
     "metadata": {},
     "output_type": "execute_result"
    }
   ],
   "source": [
    "len(tmax_data_h20c)"
   ]
  },
  {
   "cell_type": "code",
   "execution_count": 7,
   "id": "e2dd4f12",
   "metadata": {
    "scrolled": false
   },
   "outputs": [
    {
     "data": {
      "text/plain": [
       "177"
      ]
     },
     "execution_count": 7,
     "metadata": {},
     "output_type": "execute_result"
    }
   ],
   "source": [
    "counter"
   ]
  },
  {
   "cell_type": "code",
   "execution_count": 8,
   "id": "17f59110",
   "metadata": {},
   "outputs": [
    {
     "data": {
      "text/plain": [
       "10797"
      ]
     },
     "execution_count": 8,
     "metadata": {},
     "output_type": "execute_result"
    }
   ],
   "source": [
    "counter * 61"
   ]
  },
  {
   "cell_type": "code",
   "execution_count": 9,
   "id": "40d12bad",
   "metadata": {},
   "outputs": [],
   "source": [
    "#station_info = pd.read_csv('data/ghcnd_hcn_tmax.csv.gz', compression='gzip')\n",
    "station_info = tmax_data_h20c.copy()\n",
    "#station_info = station_info[np.logical_and(station_info['year'] >= 1951, station_info['year'] <= 2001)]\n",
    "station_info = station_info[['station', 'latitude', 'longitude', 'elevation']].copy()\n",
    "station_info.drop_duplicates(inplace=True)"
   ]
  },
  {
   "cell_type": "code",
   "execution_count": 10,
   "id": "7bcab61c",
   "metadata": {},
   "outputs": [],
   "source": [
    "tmax_data_h20c.drop(columns=['latitude', 'longitude', 'elevation'], inplace=True)"
   ]
  },
  {
   "cell_type": "code",
   "execution_count": 11,
   "id": "4ddbaa71",
   "metadata": {},
   "outputs": [],
   "source": [
    "def find_year_and_day(week, start_year=1961):\n",
    "    ordered_day = week * 7\n",
    "    year = start_year + ordered_day // 365\n",
    "    day = ordered_day - (year - start_year)*365\n",
    "    return year, day"
   ]
  },
  {
   "cell_type": "code",
   "execution_count": 12,
   "id": "81ec16a4",
   "metadata": {},
   "outputs": [],
   "source": [
    "def find_nearest_stations(station, nearest=10):\n",
    "    global lat1, lon1, lat2, lon2, dist\n",
    "    nearest = 10\n",
    "    lat1, lon1 = station_info[station_info['station']==station].values[0][1:3]\n",
    "\n",
    "    lat2 = station_info['latitude'].astype(float)\n",
    "    lon2 = station_info['longitude'].astype(float)\n",
    "\n",
    "    dist = np.arccos((np.sin(lat1 * np.pi/180) * np.sin(lat2 * np.pi/180) + \\\n",
    "                     np.cos(lat1 * np.pi/180) * np.cos(lat2 * np.pi/180) * np.cos((lon2 - lon1) * np.pi/180)).round(10)) * 6371\n",
    "    close_stations = station_info.loc[dist.sort_values()[0:nearest].index, 'station']\n",
    "    return close_stations#, dist.sort_values()[0:nearest]"
   ]
  },
  {
   "cell_type": "code",
   "execution_count": 13,
   "id": "5fc24840",
   "metadata": {},
   "outputs": [],
   "source": [
    "weeks = np.arange(0, 365*50//7, 1)"
   ]
  },
  {
   "cell_type": "code",
   "execution_count": 145,
   "id": "8194f17d",
   "metadata": {},
   "outputs": [
    {
     "name": "stdout",
     "output_type": "stream",
     "text": [
      "2600 / 2607 \r"
     ]
    }
   ],
   "source": [
    "X_train = []\n",
    "y_train = []\n",
    "\n",
    "for i, station in enumerate(tmax_data_h20c['station'].unique()):\n",
    "    print(i+1, '/', len(tmax_data_h20c['station'].unique()), '\\r', end='')\n",
    "    for j, week in enumerate(weeks):\n",
    "        if (j+1) % 100 == 0:\n",
    "            print(j+1, '/', len(weeks), '\\r', end='')\n",
    "        nearest_stations = find_nearest_stations(station, nearest=10)\n",
    "        near_data = tmax_data_h20c[np.in1d(tmax_data_h20c['station'], nearest_stations.to_numpy())]\n",
    "        \n",
    "        end_year, end_day = find_year_and_day(week)\n",
    "        start_year = end_year - 10\n",
    "        start_day = end_day\n",
    "                \n",
    "        end_year_y, end_day_y = find_year_and_day(week+1)\n",
    "        \n",
    "        time_data_X = near_data[np.logical_and(near_data['year'] >= start_year, near_data['year'] <= end_year)].copy()\n",
    "        time_data_X.loc[time_data_X[time_data_X['year']==start_year].index, ['day' + str(day) for day in range(1, start_day+1)]] = np.nan\n",
    "        time_data_X.loc[time_data_X[time_data_X['year']==end_year].index, ['day' + str(day) for day in range(end_day+1, 366)]] = np.nan\n",
    "        \n",
    "        if end_day > 357:\n",
    "            time_data_y = near_data[np.logical_and(near_data['year'] >= end_year, near_data['year'] <= end_year_y)].copy() # 2 years for y that wraps\n",
    "            time_data_y = time_data_y[time_data_y['station']==station] # only select the target station for y\n",
    "            time_data_y1 = time_data_y.loc[:, ['day' + str(day) for day in range(end_day+1, 366)]] # first part of week\n",
    "            time_data_y2 = time_data_y.loc[:, ['day' + str(day) for day in range(1, end_day_y+1)]] # first part of week\n",
    "            time_data_y = np.hstack([time_data_y1.to_numpy(), time_data_y2.to_numpy()])\n",
    "        else:\n",
    "            time_data_y = near_data[near_data['year'] == end_year].copy() # 1 year for y that doesn't wrap\n",
    "            time_data_y = time_data_y[time_data_y['station']==station] # only select the target station for y\n",
    "            time_data_y = time_data_y.loc[:, ['day' + str(day) for day in range(end_day+1, end_day+8)]].to_numpy() # only select one week for y\n",
    "        if len(time_data_y[0]) != 7:\n",
    "            break\n",
    "        \n",
    "        stack_data = np.zeros((10, 11, 365))\n",
    "        for k, near_station in enumerate(nearest_stations.to_numpy()):\n",
    "            stack_data[k, :, :] = time_data_X[time_data_X['station']==near_station].loc[:, ['day' + str(day) for day in range(1, 366)]]\n",
    "        \n",
    "        X_train.append(stack_data)\n",
    "        y_train.append(time_data_y[0])"
   ]
  },
  {
   "cell_type": "code",
   "execution_count": 146,
   "id": "d6d3f4a1",
   "metadata": {},
   "outputs": [],
   "source": [
    "info = []\n",
    "counter = 0\n",
    "for i, station in enumerate(tmax_data_h20c['station'].unique()):\n",
    "    for j, week in enumerate(weeks):\n",
    "        info.append([counter, station, find_year_and_day(week)[0], find_year_and_day(week)[1]])\n",
    "        counter += 1"
   ]
  },
  {
   "cell_type": "markdown",
   "id": "2d4a3724",
   "metadata": {},
   "source": [
    "# Step 3.  Save all training data"
   ]
  },
  {
   "cell_type": "code",
   "execution_count": 147,
   "id": "2f34e2ac",
   "metadata": {},
   "outputs": [],
   "source": [
    "np.savez_compressed('data/tmax_train/tmax_y_train.npz', np.array(y_train))"
   ]
  },
  {
   "cell_type": "code",
   "execution_count": 148,
   "id": "cce04dd0",
   "metadata": {},
   "outputs": [],
   "source": [
    "np.savez_compressed('data/tmax_train/tmax_X_train_info.npz', np.array(info))"
   ]
  },
  {
   "cell_type": "code",
   "execution_count": 149,
   "id": "e8935e76",
   "metadata": {},
   "outputs": [
    {
     "data": {
      "text/plain": [
       "461"
      ]
     },
     "execution_count": 149,
     "metadata": {},
     "output_type": "execute_result"
    }
   ],
   "source": [
    "len(X_train)//1000"
   ]
  },
  {
   "cell_type": "code",
   "execution_count": 150,
   "id": "26b85e64",
   "metadata": {},
   "outputs": [
    {
     "name": "stdout",
     "output_type": "stream",
     "text": [
      "462 / 310 \r"
     ]
    }
   ],
   "source": [
    "i = 0\n",
    "while i <= len(X_train)//1000:\n",
    "    print(i+1, '/', 310, '\\r', end='')\n",
    "    with h5py.File('data/tmax_train/X_train_%.06d.h5'%(i*1000), 'w') as f:\n",
    "        dset = f.create_dataset('data', data=np.nan_to_num(np.array(X_train[i*1000:i*1000+1000]), nan=-8888).astype(int), compression='gzip')\n",
    "    i += 1"
   ]
  },
  {
   "cell_type": "code",
   "execution_count": null,
   "id": "4d297c52",
   "metadata": {},
   "outputs": [],
   "source": []
  },
  {
   "cell_type": "markdown",
   "id": "000723c0",
   "metadata": {},
   "source": [
    "# Step 4. Organize validation data"
   ]
  },
  {
   "cell_type": "code",
   "execution_count": 14,
   "id": "bd98a3f7",
   "metadata": {},
   "outputs": [],
   "source": [
    "tmax_data_val_raw = tmax_data[np.logical_and(tmax_data['year'] >= 2002, tmax_data['year'] <= 2016)].copy()\n",
    "years = np.arange(2002, 2017, 1)"
   ]
  },
  {
   "cell_type": "code",
   "execution_count": 17,
   "id": "af5f3248",
   "metadata": {},
   "outputs": [
    {
     "name": "stdout",
     "output_type": "stream",
     "text": [
      "170 / 177 \r"
     ]
    }
   ],
   "source": [
    "tmp = []\n",
    "counter = 0\n",
    "for i, station in enumerate(tmax_data_h20c['station'].unique()):\n",
    "    if (i+1)%10 == 0:\n",
    "        print(i+1, '/', tmax_data_h20c['station'].nunique(), '\\r', end='')\n",
    "    a = tmax_data_val_raw[tmax_data_val_raw['station'] == station].copy()\n",
    "    if a['year'].nunique() < 15:\n",
    "        # add nans for the missing rows\n",
    "        missing_years = years[~np.in1d(years, a['year'].to_numpy())]\n",
    "        for missing_year in missing_years:\n",
    "            a.loc[a.index[-1]+1] = np.hstack([station, missing_year, [np.nan]*365, a.iloc[0][['latitude', 'longitude', 'elevation']].copy().to_numpy()])\n",
    "        a = a.sort_values('year')\n",
    "        a.index = np.arange(len(a))\n",
    "        tmp.append(a.copy().to_numpy())\n",
    "        counter += 1\n",
    "    elif a['year'].nunique() == 15:\n",
    "        tmp.append(a.copy().to_numpy())\n",
    "        counter += 1\n",
    "    else:\n",
    "        print('problem')\n",
    "        break\n",
    "\n",
    "tmax_data_val = pd.DataFrame(np.vstack(tmp), columns=tmax_data.columns)\n",
    "del(tmp)"
   ]
  },
  {
   "cell_type": "code",
   "execution_count": 18,
   "id": "bbf4ba10",
   "metadata": {},
   "outputs": [
    {
     "data": {
      "text/plain": [
       "177"
      ]
     },
     "execution_count": 18,
     "metadata": {},
     "output_type": "execute_result"
    }
   ],
   "source": [
    "tmax_data_val['station'].nunique()"
   ]
  },
  {
   "cell_type": "code",
   "execution_count": 21,
   "id": "58887cd1",
   "metadata": {},
   "outputs": [
    {
     "name": "stdout",
     "output_type": "stream",
     "text": [
      "200 / 260 \r"
     ]
    }
   ],
   "source": [
    "weeks = np.arange(0, 365*5//7, 1)\n",
    "\n",
    "X_val = []\n",
    "y_val = []\n",
    "\n",
    "for i, station in enumerate(tmax_data_val['station'].unique()):\n",
    "    print(i+1, '/', len(tmax_data_val['station'].unique()), '\\r', end='')\n",
    "    for j, week in enumerate(weeks):\n",
    "        if (j+1) % 100 == 0:\n",
    "            print(j+1, '/', len(weeks), '\\r', end='')\n",
    "        nearest_stations = find_nearest_stations(station, nearest=10)\n",
    "        near_data = tmax_data_val[np.in1d(tmax_data_val['station'], nearest_stations.to_numpy())]\n",
    "        \n",
    "        end_year, end_day = find_year_and_day(week, start_year=2012)\n",
    "        start_year = end_year - 10\n",
    "        start_day = end_day\n",
    "                \n",
    "        end_year_y, end_day_y = find_year_and_day(week+1, start_year=2012)\n",
    "        \n",
    "        time_data_X = near_data[np.logical_and(near_data['year'] >= start_year, near_data['year'] <= end_year)].copy()\n",
    "        time_data_X.loc[time_data_X[time_data_X['year']==start_year].index, ['day' + str(day) for day in range(1, start_day+1)]] = np.nan\n",
    "        time_data_X.loc[time_data_X[time_data_X['year']==end_year].index, ['day' + str(day) for day in range(end_day+1, 366)]] = np.nan\n",
    "        \n",
    "        if end_day > 357:\n",
    "            time_data_y = near_data[np.logical_and(near_data['year'] >= end_year, near_data['year'] <= end_year_y)].copy() # 2 years for y that wraps\n",
    "            time_data_y = time_data_y[time_data_y['station']==station] # only select the target station for y\n",
    "            time_data_y1 = time_data_y.loc[:, ['day' + str(day) for day in range(end_day+1, 366)]] # first part of week\n",
    "            time_data_y2 = time_data_y.loc[:, ['day' + str(day) for day in range(1, end_day_y+1)]] # first part of week\n",
    "            time_data_y = np.hstack([time_data_y1.to_numpy(), time_data_y2.to_numpy()])\n",
    "        else:\n",
    "            time_data_y = near_data[near_data['year'] == end_year].copy() # 1 year for y that doesn't wrap\n",
    "            time_data_y = time_data_y[time_data_y['station']==station] # only select the target station for y\n",
    "            time_data_y = time_data_y.loc[:, ['day' + str(day) for day in range(end_day+1, end_day+8)]].to_numpy() # only select one week for y\n",
    "        if len(time_data_y[0]) != 7:\n",
    "            break\n",
    "        \n",
    "        stack_data = np.zeros((10, 11, 365))\n",
    "        for k, near_station in enumerate(nearest_stations.to_numpy()):\n",
    "            stack_data[k, :, :] = time_data_X[time_data_X['station']==near_station].loc[:, ['day' + str(day) for day in range(1, 366)]]\n",
    "        \n",
    "        X_val.append(stack_data)\n",
    "        y_val.append(time_data_y[0])"
   ]
  },
  {
   "cell_type": "code",
   "execution_count": 23,
   "id": "e0ace6fc",
   "metadata": {
    "scrolled": true
   },
   "outputs": [
    {
     "data": {
      "text/plain": [
       "46020"
      ]
     },
     "execution_count": 23,
     "metadata": {},
     "output_type": "execute_result"
    }
   ],
   "source": [
    "len(X_val)"
   ]
  },
  {
   "cell_type": "markdown",
   "id": "6d858503",
   "metadata": {},
   "source": [
    "# Step  5. Save validation data"
   ]
  },
  {
   "cell_type": "code",
   "execution_count": 24,
   "id": "2ecd14b9",
   "metadata": {},
   "outputs": [],
   "source": [
    "val_info = []\n",
    "counter = 0\n",
    "for i, station in enumerate(tmax_data_val['station'].unique()):\n",
    "    for j, week in enumerate(weeks):\n",
    "        val_info.append([counter, station, find_year_and_day(week, start_year=2002)[0], find_year_and_day(week, start_year=2002)[1]])\n",
    "        counter += 1"
   ]
  },
  {
   "cell_type": "code",
   "execution_count": 28,
   "id": "8b03afc3",
   "metadata": {},
   "outputs": [],
   "source": [
    "# Step 3.  Save all training data\n",
    "\n",
    "np.savez_compressed('data/tmax_val/tmax_y_val.npz', np.array(y_val))\n",
    "\n",
    "np.savez_compressed('data/tmax_val/tmax_X_val_info.npz', np.array(val_info))"
   ]
  },
  {
   "cell_type": "code",
   "execution_count": 26,
   "id": "39c5593e",
   "metadata": {},
   "outputs": [
    {
     "data": {
      "text/plain": [
       "46"
      ]
     },
     "execution_count": 26,
     "metadata": {},
     "output_type": "execute_result"
    }
   ],
   "source": [
    "len(X_val)//1000"
   ]
  },
  {
   "cell_type": "code",
   "execution_count": 29,
   "id": "06f489ec",
   "metadata": {},
   "outputs": [
    {
     "name": "stdout",
     "output_type": "stream",
     "text": [
      "47 / 46 \r"
     ]
    }
   ],
   "source": [
    "i = 0\n",
    "while i <= len(X_val)//1000:\n",
    "    print(i+1, '/', len(X_val)//1000, '\\r', end='')\n",
    "    with h5py.File('data/tmax_val/X_val_%.06d.h5'%(i*1000), 'w') as f:\n",
    "        dset = f.create_dataset('data', data=np.nan_to_num(np.array(X_val[i*1000:i*1000+1000]), nan=-8888).astype(int), compression='gzip')\n",
    "    i += 1"
   ]
  },
  {
   "cell_type": "code",
   "execution_count": null,
   "id": "d6ed8fc7",
   "metadata": {},
   "outputs": [],
   "source": []
  }
 ],
 "metadata": {
  "kernelspec": {
   "display_name": "Python 3 (ipykernel)",
   "language": "python",
   "name": "python3"
  },
  "language_info": {
   "codemirror_mode": {
    "name": "ipython",
    "version": 3
   },
   "file_extension": ".py",
   "mimetype": "text/x-python",
   "name": "python",
   "nbconvert_exporter": "python",
   "pygments_lexer": "ipython3",
   "version": "3.9.9"
  }
 },
 "nbformat": 4,
 "nbformat_minor": 5
}
